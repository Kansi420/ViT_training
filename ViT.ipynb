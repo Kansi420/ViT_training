{
 "cells": [
  {
   "cell_type": "code",
   "execution_count": 1,
   "metadata": {},
   "outputs": [
    {
     "name": "stdout",
     "output_type": "stream",
     "text": [
      "Requirement already satisfied: datasets in c:\\users\\pradhumn\\anaconda3\\envs\\vicuna\\lib\\site-packages (2.12.0)\n",
      "Requirement already satisfied: transformers in c:\\users\\pradhumn\\anaconda3\\envs\\vicuna\\lib\\site-packages (4.28.0.dev0)\n",
      "Requirement already satisfied: torch in c:\\users\\pradhumn\\anaconda3\\envs\\vicuna\\lib\\site-packages (2.0.0)\n",
      "Requirement already satisfied: multiprocess in c:\\users\\pradhumn\\anaconda3\\envs\\vicuna\\lib\\site-packages (from datasets) (0.70.14)\n",
      "Requirement already satisfied: pyarrow>=8.0.0 in c:\\users\\pradhumn\\anaconda3\\envs\\vicuna\\lib\\site-packages (from datasets) (11.0.0)\n",
      "Requirement already satisfied: numpy>=1.17 in c:\\users\\pradhumn\\anaconda3\\envs\\vicuna\\lib\\site-packages (from datasets) (1.23.5)\n",
      "Requirement already satisfied: aiohttp in c:\\users\\pradhumn\\anaconda3\\envs\\vicuna\\lib\\site-packages (from datasets) (3.8.4)\n",
      "Requirement already satisfied: packaging in c:\\users\\pradhumn\\anaconda3\\envs\\vicuna\\lib\\site-packages (from datasets) (23.1)\n",
      "Requirement already satisfied: pyyaml>=5.1 in c:\\users\\pradhumn\\anaconda3\\envs\\vicuna\\lib\\site-packages (from datasets) (6.0)\n",
      "Requirement already satisfied: responses<0.19 in c:\\users\\pradhumn\\anaconda3\\envs\\vicuna\\lib\\site-packages (from datasets) (0.18.0)\n",
      "Requirement already satisfied: pandas in c:\\users\\pradhumn\\anaconda3\\envs\\vicuna\\lib\\site-packages (from datasets) (2.0.0)\n",
      "Requirement already satisfied: fsspec[http]>=2021.11.1 in c:\\users\\pradhumn\\anaconda3\\envs\\vicuna\\lib\\site-packages (from datasets) (2023.4.0)\n",
      "Requirement already satisfied: tqdm>=4.62.1 in c:\\users\\pradhumn\\anaconda3\\envs\\vicuna\\lib\\site-packages (from datasets) (4.65.0)\n",
      "Requirement already satisfied: requests>=2.19.0 in c:\\users\\pradhumn\\anaconda3\\envs\\vicuna\\lib\\site-packages (from datasets) (2.29.0)\n",
      "Requirement already satisfied: xxhash in c:\\users\\pradhumn\\anaconda3\\envs\\vicuna\\lib\\site-packages (from datasets) (3.2.0)\n",
      "Requirement already satisfied: dill<0.3.7,>=0.3.0 in c:\\users\\pradhumn\\anaconda3\\envs\\vicuna\\lib\\site-packages (from datasets) (0.3.6)\n",
      "Requirement already satisfied: huggingface-hub<1.0.0,>=0.11.0 in c:\\users\\pradhumn\\anaconda3\\envs\\vicuna\\lib\\site-packages (from datasets) (0.14.1)\n",
      "Requirement already satisfied: regex!=2019.12.17 in c:\\users\\pradhumn\\anaconda3\\envs\\vicuna\\lib\\site-packages (from transformers) (2023.3.23)\n",
      "Requirement already satisfied: tokenizers!=0.11.3,<0.14,>=0.11.1 in c:\\users\\pradhumn\\anaconda3\\envs\\vicuna\\lib\\site-packages (from transformers) (0.12.1)\n",
      "Requirement already satisfied: filelock in c:\\users\\pradhumn\\anaconda3\\envs\\vicuna\\lib\\site-packages (from transformers) (3.11.0)\n",
      "Requirement already satisfied: jinja2 in c:\\users\\pradhumn\\anaconda3\\envs\\vicuna\\lib\\site-packages (from torch) (3.1.2)\n",
      "Requirement already satisfied: networkx in c:\\users\\pradhumn\\anaconda3\\envs\\vicuna\\lib\\site-packages (from torch) (3.1)\n",
      "Requirement already satisfied: typing-extensions in c:\\users\\pradhumn\\anaconda3\\envs\\vicuna\\lib\\site-packages (from torch) (4.5.0)\n",
      "Requirement already satisfied: sympy in c:\\users\\pradhumn\\anaconda3\\envs\\vicuna\\lib\\site-packages (from torch) (1.11.1)\n",
      "Requirement already satisfied: yarl<2.0,>=1.0 in c:\\users\\pradhumn\\anaconda3\\envs\\vicuna\\lib\\site-packages (from aiohttp->datasets) (1.8.2)\n",
      "Requirement already satisfied: aiosignal>=1.1.2 in c:\\users\\pradhumn\\anaconda3\\envs\\vicuna\\lib\\site-packages (from aiohttp->datasets) (1.3.1)\n",
      "Requirement already satisfied: charset-normalizer<4.0,>=2.0 in c:\\users\\pradhumn\\anaconda3\\envs\\vicuna\\lib\\site-packages (from aiohttp->datasets) (3.1.0)\n",
      "Requirement already satisfied: frozenlist>=1.1.1 in c:\\users\\pradhumn\\anaconda3\\envs\\vicuna\\lib\\site-packages (from aiohttp->datasets) (1.3.3)\n",
      "Requirement already satisfied: attrs>=17.3.0 in c:\\users\\pradhumn\\anaconda3\\envs\\vicuna\\lib\\site-packages (from aiohttp->datasets) (22.2.0)\n",
      "Requirement already satisfied: async-timeout<5.0,>=4.0.0a3 in c:\\users\\pradhumn\\anaconda3\\envs\\vicuna\\lib\\site-packages (from aiohttp->datasets) (4.0.2)\n",
      "Requirement already satisfied: multidict<7.0,>=4.5 in c:\\users\\pradhumn\\anaconda3\\envs\\vicuna\\lib\\site-packages (from aiohttp->datasets) (6.0.4)\n",
      "Requirement already satisfied: certifi>=2017.4.17 in c:\\users\\pradhumn\\anaconda3\\envs\\vicuna\\lib\\site-packages (from requests>=2.19.0->datasets) (2022.12.7)\n",
      "Requirement already satisfied: urllib3<1.27,>=1.21.1 in c:\\users\\pradhumn\\anaconda3\\envs\\vicuna\\lib\\site-packages (from requests>=2.19.0->datasets) (1.26.15)\n",
      "Requirement already satisfied: idna<4,>=2.5 in c:\\users\\pradhumn\\anaconda3\\envs\\vicuna\\lib\\site-packages (from requests>=2.19.0->datasets) (3.4)\n",
      "Requirement already satisfied: colorama in c:\\users\\pradhumn\\anaconda3\\envs\\vicuna\\lib\\site-packages (from tqdm>=4.62.1->datasets) (0.4.6)\n",
      "Requirement already satisfied: MarkupSafe>=2.0 in c:\\users\\pradhumn\\anaconda3\\envs\\vicuna\\lib\\site-packages (from jinja2->torch) (2.1.2)\n",
      "Requirement already satisfied: python-dateutil>=2.8.2 in c:\\users\\pradhumn\\anaconda3\\envs\\vicuna\\lib\\site-packages (from pandas->datasets) (2.8.2)\n",
      "Requirement already satisfied: pytz>=2020.1 in c:\\users\\pradhumn\\anaconda3\\envs\\vicuna\\lib\\site-packages (from pandas->datasets) (2023.3)\n",
      "Requirement already satisfied: tzdata>=2022.1 in c:\\users\\pradhumn\\anaconda3\\envs\\vicuna\\lib\\site-packages (from pandas->datasets) (2023.3)\n",
      "Requirement already satisfied: mpmath>=0.19 in c:\\users\\pradhumn\\anaconda3\\envs\\vicuna\\lib\\site-packages (from sympy->torch) (1.3.0)\n",
      "Requirement already satisfied: six>=1.5 in c:\\users\\pradhumn\\anaconda3\\envs\\vicuna\\lib\\site-packages (from python-dateutil>=2.8.2->pandas->datasets) (1.16.0)\n"
     ]
    },
    {
     "name": "stderr",
     "output_type": "stream",
     "text": [
      "WARNING: Ignoring invalid distribution -rotobuf (c:\\users\\pradhumn\\anaconda3\\envs\\vicuna\\lib\\site-packages)\n",
      "WARNING: Ignoring invalid distribution -rotobuf (c:\\users\\pradhumn\\anaconda3\\envs\\vicuna\\lib\\site-packages)\n",
      "WARNING: Ignoring invalid distribution -rotobuf (c:\\users\\pradhumn\\anaconda3\\envs\\vicuna\\lib\\site-packages)\n",
      "WARNING: Ignoring invalid distribution -rotobuf (c:\\users\\pradhumn\\anaconda3\\envs\\vicuna\\lib\\site-packages)\n",
      "WARNING: Ignoring invalid distribution -rotobuf (c:\\users\\pradhumn\\anaconda3\\envs\\vicuna\\lib\\site-packages)\n",
      "WARNING: Ignoring invalid distribution -rotobuf (c:\\users\\pradhumn\\anaconda3\\envs\\vicuna\\lib\\site-packages)\n"
     ]
    }
   ],
   "source": [
    "!pip install datasets transformers torch"
   ]
  },
  {
   "cell_type": "code",
   "execution_count": 3,
   "metadata": {},
   "outputs": [
    {
     "name": "stderr",
     "output_type": "stream",
     "text": [
      "c:\\Users\\pradhumn\\anaconda3\\envs\\vicuna\\lib\\site-packages\\datasets\\load.py:1748: FutureWarning: 'ignore_verifications' was deprecated in favor of 'verification_mode' in version 2.9.1 and will be removed in 3.0.0.\n",
      "You can remove this warning by passing 'verification_mode=all_checks' instead.\n",
      "  warnings.warn(\n",
      "Using the latest cached version of the module from C:\\Users\\pradhumn\\.cache\\huggingface\\modules\\datasets_modules\\datasets\\cifar10\\447d6ec4733dddd1ce3bb577c7166b986eaa4c538dcd9e805ba61f35674a9de4 (last modified on Mon May 29 16:14:47 2023) since it couldn't be found locally at cifar10., or remotely on the Hugging Face Hub.\n",
      "Found cached dataset cifar10 (C:/Users/pradhumn/.cache/huggingface/datasets/cifar10/plain_text/1.0.0/447d6ec4733dddd1ce3bb577c7166b986eaa4c538dcd9e805ba61f35674a9de4)\n"
     ]
    }
   ],
   "source": [
    "# import CIFAR-10 dataset from HuggingFace\n",
    "from datasets import load_dataset\n",
    "\n",
    "dataset_train = load_dataset(\n",
    "    'cifar10',\n",
    "    split='train',\n",
    "    ignore_verifications=False # set to True if seeing splits Error\n",
    ")"
   ]
  }
 ],
 "metadata": {
  "kernelspec": {
   "display_name": "vicuna",
   "language": "python",
   "name": "python3"
  },
  "language_info": {
   "codemirror_mode": {
    "name": "ipython",
    "version": 3
   },
   "file_extension": ".py",
   "mimetype": "text/x-python",
   "name": "python",
   "nbconvert_exporter": "python",
   "pygments_lexer": "ipython3",
   "version": "3.9.16"
  },
  "orig_nbformat": 4
 },
 "nbformat": 4,
 "nbformat_minor": 2
}
